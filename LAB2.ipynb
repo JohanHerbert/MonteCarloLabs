{
 "cells": [
  {
   "cell_type": "code",
   "execution_count": 1,
   "metadata": {},
   "outputs": [],
   "source": [
    "import numpy as np\n",
    "import pandas as pd\n",
    "from matplotlib import pyplot as plt\n",
    "%matplotlib inline\n",
    "\n",
    "from scipy.stats import norm, lognorm, qmc # gives us the normal and log normal pdf,cdf and inverse cdf (ppf,point percent function)\n",
    "from scipy.stats.mstats import gmean #geomeetric mean\n"
   ]
  },
  {
   "cell_type": "markdown",
   "metadata": {},
   "source": [
    "## 1. Call and put option"
   ]
  },
  {
   "cell_type": "markdown",
   "metadata": {},
   "source": [
    "Let S(0) = 100, r = 0.03, T = 1, 𝜎 = 20% and  𝐾 ∈ {70,100, 130}: "
   ]
  },
  {
   "cell_type": "markdown",
   "metadata": {},
   "source": [
    "a) Calculate the price using quasi-MC for all strikes "
   ]
  },
  {
   "cell_type": "code",
   "execution_count": 28,
   "metadata": {},
   "outputs": [],
   "source": [
    "## Quasi Monte Carlo\n",
    "\n",
    "def CallPricesQMC(S,n_years,K,r,u):\n",
    "  paths = S.shape[0]\n",
    "  C_n_vector = np.zeros(len(K))\n",
    "  confint_call = np.zeros(len(K))\n",
    "  for i, k in enumerate(K):\n",
    "    C = np.exp(-r*n_years) * np.maximum(S[:,-1] - k , 0)\n",
    "    C_n = np.mean(C)\n",
    "    C_n_vector[i] = C_n\n",
    "    confint_call[i] = np.quantile(norm.ppf(u), 0.975)*np.std(C)/(paths ** (1/2))\n",
    "    #normprint(f\"Call option price estimate for strike {k} is: {C_n:.3f} +/- {confint_call[i]}\")\n",
    "  return C_n_vector , confint_call\n",
    "\n",
    "\n",
    "def PutPricesQMC(S,n_years,K,r,u):\n",
    "  paths = S.shape[0]\n",
    "  P_n_vector = np.zeros(len(K))\n",
    "  confint_put = np.zeros(len(K))\n",
    "  for i, k in enumerate(K):\n",
    "    P = np.exp(-r*n_years) * np.maximum(k - S[:,-1] , 0)\n",
    "    P_n = np.mean(P)\n",
    "    P_n_vector[i] = P_n\n",
    "    confint_put[i] = np.quantile(norm.ppf(u), 0.975)*np.std(P)/(paths ** (1/2))\n",
    "    #normprint(f\"Call option price estimate for strike {k} is: {C_n:.3f} +/- {confint_call[i]}\")\n",
    "  return P_n_vector , confint_put\n",
    "\n",
    "def StockTrajectoryQuasi(n_paths, T, timesteps, S_0,r,sigma,u):\n",
    "  dt = 1/timesteps\n",
    "  # Generating stock price paths\n",
    "  S = S_0 * np.ones((int(n_paths),T+1 ))\n",
    "\n",
    "  for n in range(int(n_paths)):\n",
    "      for t in range(1,T+1):\n",
    "          #print(t,n)\n",
    "          #S[n,t] =  norm.ppf(u[t,n])\n",
    "          S[n, t] = S[n,t-1] * np.exp((r-0.5 * sigma ** 2) * dt + np.sqrt(dt) * sigma * norm.ppf(u[n+1,t]))\n",
    "  return S\n",
    "\n"
   ]
  },
  {
   "cell_type": "code",
   "execution_count": 29,
   "metadata": {},
   "outputs": [
    {
     "name": "stdout",
     "output_type": "stream",
     "text": [
      "-----Call prices -------------------------- Estimate ------\n",
      "  QMC call price including CI for K = 70 is 32.23449379454424  +/- 0.2756352112552673\n",
      "  QMC call price including CI for K = 100 is 9.411702311000923  +/- 0.19539520537619082\n",
      "  QMC call price including CI for K = 130 is 1.3560082795051795  +/- 0.07743133555286204\n",
      " \n",
      "-----Put prices -------------------------- Estimate ------\n",
      "  QMC put price including CI for K = 70 is 0.16533080109865564  +/- 0.016247010160350777\n",
      "  QMC put price including CI for K = 100 is 6.4559053240105815  +/- 0.12949240106950333\n",
      "  QMC put price including CI for K = 130 is 27.513577298970084  +/- 0.24074876399189532\n"
     ]
    }
   ],
   "source": [
    "# Initiating variables\n",
    "n_paths = 20000; S_0 = 100; r = 0.03; T = 1; sigma = 0.2; K = np.array([70, 100, 130]); m = 1\n",
    "\n",
    "# Generating Sobol sequence\n",
    "sampler = qmc.Sobol(d = 2, scramble = False) # sets number of columns in u\n",
    "u = sampler.random_base2(17) # sets number of rows in u being 2^argument \n",
    "\n",
    "## Generating stock price paths\n",
    "S = StockTrajectoryQuasi(n_paths, T, m, S_0,r,sigma,u)\n",
    "\n",
    "## Calculating call prices using S\n",
    "QMC_call_price, QMC_Confint_call = CallPricesQMC(S,T, K,r,u[1:,0])\n",
    "\n",
    "## Calculating put prices using S\n",
    "QMC_put_price, QMC_Confint_put = PutPricesQMC(S,T, K,r,u[1:,0])\n",
    "\n",
    "print('-----Call prices -------------------------- Estimate ----------------- ')\n",
    "for i in range(len(K)):\n",
    "  print(f'  QMC call price including CI for K = {K[i]} is {QMC_call_price[i]}  +/- {QMC_Confint_call[i]}')\n",
    "\n",
    "print(' ')\n",
    "\n",
    "print('-----Put prices -------------------------- Estimate ------')\n",
    "for i in range(len(K)):\n",
    "  print(f'  QMC put price including CI for K = {K[i]} is {QMC_put_price[i]}  +/- {QMC_Confint_put[i]}')\n"
   ]
  },
  {
   "cell_type": "markdown",
   "metadata": {},
   "source": [
    "b) Calculate the price using importance sampling, but only for K = 130 for the call and K = 70 for the put. Use μ = \n",
    "1.84 for the call and μ = -2.26 for the put. "
   ]
  },
  {
   "cell_type": "code",
   "execution_count": 30,
   "metadata": {},
   "outputs": [],
   "source": [
    "def StockTrajectory(n_paths, n_years, timesteps, S_0, Z, r, mu = 0):\n",
    "  X_tilde = Z + mu\n",
    "  dt = n_years/timesteps\n",
    "  S = S_0 * np.ones((int(n_paths),n_years * timesteps +1))\n",
    "  for n in range(int(n_paths)):\n",
    "    for t in range(1,Z.shape[1]):\n",
    "      S[n, t] = S[n,t-1] * np.exp((r-0.5 * sigma ** 2) * dt + np.sqrt(dt) * sigma * X_tilde[n,t])\n",
    "  return S\n",
    "\n",
    "def LikelihoodRatio( Z, mu=0):\n",
    "  X_tilde = Z + mu\n",
    "  LR = np.exp(-mu * X_tilde + 0.5 * (mu ** 2))\n",
    "  return LR\n",
    "\n",
    "def CalculateCallIS(S,K,r, LR):\n",
    "  paths = S.shape[0]\n",
    "  n_years = S.shape[1] - 1\n",
    "  C_n_vector = np.zeros(len(K))\n",
    "  confint_call = np.zeros(len(K))\n",
    "  for i, k in enumerate(K):\n",
    "    H = np.exp(-r*n_years) * np.maximum(S[:,-1] - k , 0) \n",
    "    C = H * LR[:,-1]\n",
    "    C_n_vector[i] = np.mean(C)\n",
    "    confint_call[i] = np.quantile(Z, 0.975)*np.std(C)/(paths ** (1/2))\n",
    "    #print(f\"Call option price estimate for strike {k} is: {C_n:.3f} +/- {confint_call[i]}\")\n",
    "  return C_n_vector, confint_call\n",
    "\n",
    "def CalculatePutIS(S,K,r, LR):\n",
    "  paths = S.shape[0]\n",
    "  n_years = S.shape[1] - 1\n",
    "  C_n_vector = np.zeros(len(K))\n",
    "  confint_call = np.zeros(len(K))\n",
    "  for i, k in enumerate(K):\n",
    "    H = np.exp(-r*n_years) * np.maximum(k - S[:,-1]  , 0) \n",
    "    C = H * LR[:,-1]\n",
    "    C_n_vector[i] = np.mean(C)\n",
    "    confint_call[i] = np.quantile(Z, 0.975)*np.std(C)/(paths ** (1/2))\n",
    "    #print(f\"Call option price estimate for strike {k} is: {C_n:.3f} +/- {confint_call[i]}\")\n",
    "  return C_n_vector, confint_call\n"
   ]
  },
  {
   "cell_type": "code",
   "execution_count": 31,
   "metadata": {},
   "outputs": [],
   "source": [
    "# # Importance sampling for all strikes , call and put\n",
    "K = np.array([ 70,100,130]); mu = np.array([1.84, -2.26]); simulations = 20000\n",
    "m = 1\n",
    "\n",
    "Z = np.random.standard_normal((simulations, T + 1))\n",
    "\n",
    "S_call = StockTrajectory(simulations, T, m, S_0, Z,r,mu[0]) \n",
    "S_put = StockTrajectory(simulations, T, m, S_0, Z,r,mu[1]) \n",
    "\n",
    "LR_call = LikelihoodRatio(Z,mu[0])\n",
    "LR_put = LikelihoodRatio(Z,mu[1])\n",
    "\n",
    "CallPrice_IS , Confint_call_IS = CalculateCallIS(S_call,K,r, LR_call)\n",
    "PutPrice_IS, Confint_put_IS  = CalculatePutIS(S_put,K,r, LR_put)"
   ]
  },
  {
   "cell_type": "code",
   "execution_count": 32,
   "metadata": {},
   "outputs": [
    {
     "name": "stdout",
     "output_type": "stream",
     "text": [
      "-----Call prices -------------------------- Lower Estimate Upper------\n",
      "  IS call price including CI for K = 70 is [31.665, 32.408, 33.151]\n",
      "  IS call price including CI for K = 100 is [9.255, 9.358, 9.461]\n",
      "  IS call price including CI for K = 130 is [1.345, 1.36, 1.375]\n",
      " \n",
      "-----Put prices --------------------------- Lower Estimate Upper----\n",
      "  IS put price including CI for K = 70 is [0.164, 0.167, 0.169]\n",
      "  IS put price including CI for K = 100 is [6.286, 6.406, 6.526]\n",
      "  IS put price including CI for K = 130 is [26.728, 27.786, 28.843]\n",
      "----------------------------------------------------------------------- \n"
     ]
    }
   ],
   "source": [
    "# Prices including confidence bounds\n",
    "IS_Callintervals = [[np.round((CallPrice_IS[i] - Confint_call_IS[i]),3) , np.round(CallPrice_IS[i],3), np.round((CallPrice_IS[i] + Confint_call_IS[i]),3) ] for i in range(len(CallPrice_IS)) ]\n",
    "#AV_Callintervals = [[np.round((AV_Call_Prices[i] - AV_Call_CI[i]),3) , np.round(AV_Call_Prices[i],3), np.round((AV_Call_Prices[i] + AV_Call_CI[i]),3) ] for i in range(len(AV_Call_Prices)) ]\n",
    "\n",
    "print('-----Call prices -------------------------- Lower Estimate Upper------')\n",
    "for i in range(len(K)):\n",
    "  print(f'  IS call price including CI for K = {K[i]} is {IS_Callintervals[i]}')\n",
    "  #print(f'  AV  call price including CI for K = {K[i]} is {AV_Callintervals[i] }')\n",
    "\n",
    "print(' ')\n",
    "\n",
    "SMC_Putintervals = [[np.round((PutPrice_IS[i] - Confint_put_IS[i]),3) , np.round(PutPrice_IS[i],3), np.round((PutPrice_IS[i] + Confint_put_IS[i]),3) ] for i in range(len(CallPrice_IS)) ]\n",
    "#AV_Putintervals = [[np.round((AV_Put_Prices[i] - AV_Put_CI[i]),3) , np.round(AV_Put_Prices[i],3), np.round((AV_Put_Prices[i] + AV_Put_CI[i]),3) ] for i in range(len(AV_Put_Prices)) ]\n",
    "\n",
    "print('-----Put prices --------------------------- Lower Estimate Upper----')\n",
    "for i in range(len(K)):\n",
    "  print(f'  IS put price including CI for K = {K[i]} is {SMC_Putintervals[i]}')\n",
    "  #print(f'  AV  put price including CI for K = {K[i]} is {AV_Putintervals[i] }')\n",
    "print('----------------------------------------------------------------------- ')"
   ]
  },
  {
   "cell_type": "markdown",
   "metadata": {},
   "source": [
    "c) Produce a comparison plot including the methods (and the exact price) from assignment 1 for the call with K = \n",
    "130."
   ]
  },
  {
   "cell_type": "code",
   "execution_count": 34,
   "metadata": {},
   "outputs": [],
   "source": [
    "def AntitheticCall(S_plus, S_minus,n_years,K,r,paths):\n",
    "  C_av_vector = np.zeros(len(K))\n",
    "  confint_call_av = np.zeros(len(K))\n",
    "  for i, k in enumerate(K):\n",
    "    C_plus = np.exp(-r*n_years) * np.maximum(S_plus[:,-1] - k , 0)\n",
    "    C_minus = np.exp(-r*n_years) * np.maximum(S_minus[:,-1] - k , 0)\n",
    "    C_hat = (C_plus + C_minus)/2\n",
    "    C_av = np.mean(C_hat)\n",
    "    C_av_vector[i] = C_av\n",
    "    confint_call_av[i] = np.quantile(Z, 0.975)*np.std(C_hat)/(paths ** (1/2))\n",
    "    #print(f\"Call option price estimate for strike {k} is: {C_av:.3f} +/- {confint_call_av[i]}\")\n",
    "  return C_av_vector, confint_call_av\n",
    "\n",
    "def AntitheticPut(S_plus, S_minus,n_years,K,r,paths):\n",
    "  P_av_vector = np.zeros(len(K))\n",
    "  confint_put_av = np.zeros(len(K))\n",
    "  for i, k in enumerate(K):\n",
    "    P_plus = np.exp(-r*n_years) * np.maximum(k-S_plus[:,-1] , 0)\n",
    "    P_minus = np.exp(-r*n_years) * np.maximum(k-S_minus[:,-1] , 0)\n",
    "    P_hat = (P_plus + P_minus)/2\n",
    "    P_av = np.mean(P_hat)\n",
    "    P_av_vector[i] = P_av\n",
    "    confint_put_av[i] = np.quantile(Z, 0.975)*np.std(P_hat)/(paths ** (1/2))\n",
    "    #print(f\"Put option price estimate for strike {k} is: {P_av:.3f} +/- {confint_put_av[i]}\")\n",
    "  return P_av_vector, confint_put_av\n",
    "\n",
    "def CalculateCallPrices(S,n_years,K,r,paths):\n",
    "  C_n_vector = np.zeros(len(K))\n",
    "  confint_call = np.zeros(len(K))\n",
    "  for i, k in enumerate(K):\n",
    "    C = np.exp(-r*n_years) * np.maximum(S[:,-1] - k , 0)\n",
    "    C_n = np.mean(C)\n",
    "    C_n_vector[i] = C_n\n",
    "    confint_call[i] = np.quantile(Z, 0.975)*np.std(C)/(paths ** (1/2))\n",
    "    #print(f\"Call option price estimate for strike {k} is: {C_n:.3f} +/- {confint_call[i]}\")\n",
    "  return C_n_vector, confint_call\n",
    "\n",
    "def CalculatePutPrices(S,n_years,K,r,paths):\n",
    "  P_n_vector = np.zeros(len(K))\n",
    "  confint_put = np.zeros(len(K))\n",
    "  for i, k in enumerate(K):\n",
    "    P = np.exp(-r*n_years) * np.maximum(k-S[:,-1] , 0)\n",
    "    P_n = np.mean(P)\n",
    "    P_n_vector[i] = P_n\n",
    "    confint_put[i] = np.quantile(Z, 0.975)*np.std(P) /(paths ** (1/2))\n",
    "    #print(f\"Put option price estimate for strike {k} is: {P_n:.3f} +/- {confint_put[i]} \")\n",
    "  return P_n_vector, confint_put\n",
    "\n",
    "def BlackScholes(S, T, K, sigma,r):\n",
    "  d1 = 1/(sigma*(T ** (1/2)))* (np.log(S/K) + (r + (sigma ** 2) / 2 ) * T )\n",
    "  d2 = d1 - sigma * T ** (1/2)\n",
    "  price = S * norm.cdf(d1) - np.exp(-r*T) * norm.cdf(d2) *K\n",
    "  return price\n",
    "\n",
    "def PutCallParity(CallPrice,T , r, S, K ):\n",
    "  # Take Call pricces and calculate the put prices\n",
    "  p = CallPrice - S + K * np.exp(-r * T)\n",
    "  return p\n"
   ]
  },
  {
   "cell_type": "code",
   "execution_count": 35,
   "metadata": {},
   "outputs": [
    {
     "name": "stdout",
     "output_type": "stream",
     "text": [
      "Call option price at strike 70 is:  32.235\n",
      "Call option price at strike 100 is:  9.413\n",
      "Call option price at strike 130 is:  1.358\n",
      " \n",
      "Put option price at strike 70 is:  0.166\n",
      "Put option price at strike 100 is:  6.458\n",
      "Put option price at strike 130 is:  27.516\n"
     ]
    }
   ],
   "source": [
    "# # BS price of the options\n",
    "S_0 = 100 ; r = 0.03 ; T = 1 ; sigma = 0.2; K = [70,100,130]\n",
    "\n",
    "CallPrices = [BlackScholes(S_0, T, k, sigma,r) for k in K]\n",
    "\n",
    "for i, p in enumerate(CallPrices):\n",
    "  print(f\"Call option price at strike {K[i]} is:  {p.round(3)}\")\n",
    "\n",
    "print(' ')\n",
    "PutPrices = [PutCallParity(CallPrices[i], T, r, S_0, k) for i, k in enumerate(K)]\n",
    "for i, p in enumerate(PutPrices):\n",
    "  print(f\"Put option price at strike {K[i]} is:  {p.round(3)}\")"
   ]
  },
  {
   "cell_type": "code",
   "execution_count": 43,
   "metadata": {},
   "outputs": [],
   "source": [
    "S_0 = 100\n",
    "n_years = 1\n",
    "timesteps = 1\n",
    "n_paths = np.linspace(10000,100000,10)\n",
    "K = np.array([70, 100, 130])\n",
    "mu = np.array([1.84, -2.26])\n",
    "\n",
    "\n",
    "# Generating Sobol sequence\n",
    "sampler = qmc.Sobol(d = 2, scramble = False) # sets number of columns in u\n",
    "u = sampler.random_base2(17) # sets number of rows in u being 2^argument \n",
    "\n",
    "# Define arrays\n",
    "SMC_Call = np.zeros((len(n_paths),len(K)))\n",
    "AV_Call = np.zeros((len(n_paths),len(K)))\n",
    "SMC_Put = np.zeros((len(n_paths),len(K)))\n",
    "AV_Put = np.zeros((len(n_paths),len(K)))\n",
    "IS_Call = np.zeros((len(n_paths),len(K)))\n",
    "IS_Put = np.zeros((len(n_paths),len(K)))\n",
    "\n",
    "QMC_Call = np.zeros((len(n_paths),len(K)))\n",
    "QMC_Put = np.zeros((len(n_paths),len(K)))\n",
    "QMC_Call_CI = np.zeros((len(n_paths),len(K)))\n",
    "QMC_Put_CI = np.zeros((len(n_paths),len(K)))\n",
    "\n",
    "SMC_Call_CI_vec = np.zeros((len(n_paths),len(K)))\n",
    "AV_Call_CI_vec = np.zeros((len(n_paths),len(K)))\n",
    "SMC_Put_CI_vec = np.zeros((len(n_paths),len(K)))\n",
    "AV_Put_CI_vec = np.zeros((len(n_paths),len(K)))\n",
    "\n",
    "IS_Call_CI_vec = np.zeros((len(n_paths),len(K)))\n",
    "IS_Put_CI_vec = np.zeros((len(n_paths),len(K)))\n",
    "\n",
    "for i, sims in enumerate(n_paths):\n",
    "  paths = int(sims);\n",
    "  Z = np.random.standard_normal((int(paths),n_years+1))\n",
    "  #### SMC\n",
    "  S = StockTrajectory(paths, n_years, timesteps, S_0, Z, r)\n",
    "  SMC_Call_price, SMC_Call_CI = CalculateCallPrices(S,n_years,K,r,paths)\n",
    "  SMC_Put_price, SMC_Put_CI = CalculatePutPrices(S,n_years,K,r,paths)\n",
    "\n",
    "  #### AV\n",
    "  S_plus = StockTrajectory(paths, n_years, timesteps, S_0, Z, r)\n",
    "  S_minus = StockTrajectory(paths, n_years, timesteps, S_0, -Z, r)\n",
    "  AV_Call_price, AV_Call_CI = AntitheticCall(S_plus, S_minus,n_years,K,r,paths)\n",
    "  AV_Put_price, AV_Put_CI = AntitheticPut(S_plus, S_minus,n_years,K,r,paths)\n",
    "\n",
    "  #### IS\n",
    "\n",
    "  S_call = StockTrajectory(paths, T, m, S_0, Z,r,mu[0]) \n",
    "  S_put = StockTrajectory(paths, T, m, S_0, Z,r,mu[1]) \n",
    "\n",
    "  LR_call = LikelihoodRatio(Z,mu[0])\n",
    "  LR_put = LikelihoodRatio(Z,mu[1])\n",
    "\n",
    "  CallPrice_IS , Confint_call_IS = CalculateCallIS(S_call,K,r, LR_call)\n",
    "  PutPrice_IS, Confint_put_IS  = CalculatePutIS(S_put,K,r, LR_put)\n",
    "\n",
    "  #### QMC \n",
    "\n",
    "  ## Generating stock price paths\n",
    "  S = StockTrajectoryQuasi(paths, T, m, S_0,r,sigma,u)\n",
    "\n",
    "  ## Calculating QMC prices using S\n",
    "  QMC_call_price, QMC_Confint_call = CallPricesQMC(S,T, K,r,u[1:,0])\n",
    "  QMC_put_price, QMC_Confint_put = PutPricesQMC(S,T, K,r,u[1:,0])\n",
    "\n",
    "\n",
    "  for j in range(len(K)):\n",
    "    SMC_Call[i,j] = SMC_Call_price[j]\n",
    "    SMC_Put[i,j] = SMC_Put_price[j]\n",
    "    AV_Call[i,j] = AV_Call_price[j]\n",
    "    AV_Put[i,j] = AV_Put_price[j]\n",
    "    IS_Call[i,j] = CallPrice_IS[j]\n",
    "    IS_Put[i,j] = PutPrice_IS[j]\n",
    "\n",
    "    SMC_Call_CI_vec[i,j] = SMC_Call_CI[j]\n",
    "    SMC_Put_CI_vec[i,j] = SMC_Put_CI[j]\n",
    "    AV_Call_CI_vec[i,j] = AV_Call_CI[j]\n",
    "    AV_Put_CI_vec[i,j] = AV_Put_CI[j]\n",
    "    IS_Call_CI_vec[i,j] = Confint_call_IS[j]\n",
    "    IS_Put_CI_vec[i,j] = Confint_put_IS[j]\n",
    "\n",
    "    QMC_Call[i,j] =  QMC_call_price[j]\n",
    "    QMC_Put[i,j] = QMC_put_price[j]\n",
    "    QMC_Call_CI[i,j] = Confint_call_IS[j]\n",
    "    QMC_Put_CI[i,j] = Confint_put_IS[j]\n",
    "\n",
    "    \n",
    "\n"
   ]
  },
  {
   "cell_type": "code",
   "execution_count": 45,
   "metadata": {},
   "outputs": [
    {
     "data": {
      "image/png": "[encoded data removed]",
      "text/plain": [
       "<Figure size 640x480 with 1 Axes>"
      ]
     },
     "metadata": {},
     "output_type": "display_data"
    }
   ],
   "source": [
    "# Plot call\n",
    "# SMC (uncomment lines for confidence intervals)\n",
    "plt.plot(n_paths,SMC_Call[:,2], label='SMC',color = 'green');\n",
    "# plt.plot(n_paths,SMC_Call[:,1]+ SMC_Call_CI_vec[:,1], label='SMC upper bound', linestyle='--',color = 'green',linewidth=0.3);\n",
    "# plt.plot(n_paths,SMC_Call[:,1]- SMC_Call_CI_vec[:,1], label='SMC lower bound', linestyle='--',color = 'green',linewidth=0.3);\n",
    "\n",
    "# AV (uncomment lines for confidence intervals)\n",
    "plt.plot(n_paths,AV_Call[:,2], label='AV',color = 'red');\n",
    "# plt.plot(n_paths,AV_Call[:,1]+ AV_Call_CI_vec[:,1], label='AV upper bound', linestyle='--',color = 'red',linewidth=0.3);\n",
    "# plt.plot(n_paths,AV_Call[:,1]- AV_Call_CI_vec[:,1], label='AV lower bound', linestyle='--',color = 'red',linewidth=0.3);\n",
    "\n",
    "# IS (uncomment lines for confidence intervals)\n",
    "plt.plot(n_paths,IS_Call[:,2], label='IS',color = 'blue');\n",
    "# plt.plot(n_paths,IS_Call[:,1]+ IS_Call_CI_vec[:,1], label='IS upper bound', linestyle='--',color = 'blue',linewidth=0.3);\n",
    "# plt.plot(n_paths,IS_Call[:,1]- IS_Call_CI_vec[:,1], label='IS lower bound', linestyle='--',color = 'blue',linewidth=0.3);\n",
    "\n",
    "# IS (uncomment lines for confidence intervals)\n",
    "plt.plot(n_paths,QMC_Call[:,2], label='QMC',color = 'magenta');\n",
    "#plt.plot(n_paths,QMC_Call[:,1]+ QMC_Call_CI_vec[:,1], label='QMC upper bound', linestyle='--',color = 'blue',linewidth=0.3);\n",
    "#plt.plot(n_paths,QMC_Call[:,1]- QMC_Call_CI_vec[:,1], label='QMC lower bound', linestyle='--',color = 'blue',linewidth=0.3);\n",
    "\n",
    "\n",
    "# BS\n",
    "plt.axhline(y=CallPrices[2], color='k', linestyle='--', label='BS-price');\n",
    "\n",
    "# Styling\n",
    "plt.xlabel('Simulations')\n",
    "plt.ylabel('Price')\n",
    "plt.title('Convergence of call price with K = 100')\n",
    "plt.legend(fontsize=8);"
   ]
  },
  {
   "cell_type": "markdown",
   "metadata": {},
   "source": [
    "Discussion: Based on the plot in c) which pricing method seems to be the most accurate? "
   ]
  },
  {
   "cell_type": "markdown",
   "metadata": {},
   "source": [
    "## 2. Asian call"
   ]
  },
  {
   "cell_type": "markdown",
   "metadata": {},
   "source": [
    "Choose parameters as in problem 1 with $0 = 𝑡_0 < 𝑡_1 < ⋯ < 𝑡_𝑚 = 𝑇,  𝑡_𝑖 − 𝑡_𝑖−1 = \\frac{1}{𝑚}$ and consider an Asian call on \n",
    "arithmetic mean. "
   ]
  },
  {
   "cell_type": "markdown",
   "metadata": {},
   "source": [
    "a) Calculate the price using quasi-MC for all strikes 𝐾 ∈ {70,100,130} and 𝑚 ∈ {12, 52} "
   ]
  },
  {
   "cell_type": "code",
   "execution_count": 103,
   "metadata": {},
   "outputs": [],
   "source": [
    "def StockTrajectoryQuasi(n_paths, T, timesteps, S_0,r,sigma,u):\n",
    "  dt = 1/timesteps\n",
    "  # Generating stock price paths\n",
    "  S = S_0 * np.ones((int(n_paths),T*timesteps+1))\n",
    "\n",
    "  for n in range(int(n_paths)):\n",
    "      for t in range(1,T*timesteps+1):\n",
    "          #print(t,n)\n",
    "          #S[n,t] =  norm.ppf(u[t,n])\n",
    "          S[n, t] = S[n,t-1] * np.exp((r-0.5 * sigma ** 2) * dt + np.sqrt(dt) * sigma * norm.ppf(u[n+1,t]))\n",
    "  return S\n",
    "\n",
    "def AsianAritmetricPayoff(S,K,n_years,r):\n",
    "  simulations = S.shape[0] # Number of rows\n",
    "  row_length = S.shape[1]  # Row length\n",
    "  payoff = np.zeros((simulations,len(K)))\n",
    "  S_temp = S[:,1:]\n",
    "  for index, k in enumerate(K):\n",
    "    S_sum = np.sum(S_temp, axis = 1) # Rowise sum of the prices\n",
    "    payoff[:,index] =  np.exp(-r*n_years) * np.maximum((S_sum/(row_length-1)) - k, 0) # Payoff calculation\n",
    "  return payoff\n"
   ]
  },
  {
   "cell_type": "code",
   "execution_count": 108,
   "metadata": {},
   "outputs": [
    {
     "name": "stdout",
     "output_type": "stream",
     "text": [
      "Asian call prices \n",
      "Arithmetic asian call option price at strike 70 with m = 12, is:  30.702\n",
      "Arithmetic asian call option price at strike 100 with m = 12, is:  5.636\n",
      "Arithmetic asian call option price at strike 130 with m = 12, is:  0.122\n",
      "Arithmetic asian call option price at strike 70 with m = 52, is:  30.599\n",
      "Arithmetic asian call option price at strike 100 with m = 52, is:  5.349\n",
      "Arithmetic asian call option price at strike 130 with m = 52, is:  0.092\n"
     ]
    }
   ],
   "source": [
    "S_0 = 100; r = 0.03; T = 1; sigma = 0.2; K = np.array([70, 100, 130]); m = np.array([12,52])\n",
    "\n",
    "paths = 20000\n",
    "\n",
    "print('Asian call prices ')\n",
    "for timesteps in m: \n",
    "  # Generating Sobol sequence\n",
    "  sampler = qmc.Sobol(d = timesteps+1, scramble = False) # sets number of columns in u\n",
    "  u = sampler.random_base2(17) # sets number of rows in u being 2^argument \n",
    "\n",
    "  S = StockTrajectoryQuasi(paths, T, timesteps , S_0, r, sigma, u)\n",
    "  #plt.plot(S.T);\n",
    "\n",
    "  payoffs = AsianAritmetricPayoff(S,K,T,r) \n",
    "\n",
    "  AritmethicPrices = np.mean(payoffs,axis = 0)\n",
    "  print('-----------------------------------------------------------------------------------------')\n",
    "  for i, p in enumerate(AritmethicPrices):\n",
    "    print(f\"Arithmetic asian call option price at strike {K[i]} with m = {timesteps}, is:  {p.round(3)}\")\n",
    "                                                                                                                                                                              "
   ]
  },
  {
   "cell_type": "markdown",
   "metadata": {},
   "source": [
    "b) Calculate the price using importance sampling when K = 130. Use $μ = \\frac{5}{𝑚}$ in each time step, for 𝑚 ∈ {12, 52}. "
   ]
  },
  {
   "cell_type": "code",
   "execution_count": 111,
   "metadata": {},
   "outputs": [],
   "source": [
    "def StockTrajectory(n_paths, n_years, timesteps, S_0, Z, r, mu = 0):\n",
    "  X_tilde = Z + mu\n",
    "  dt = n_years/timesteps\n",
    "  S = S_0 * np.ones((int(n_paths),n_years * timesteps +1 ))\n",
    "\n",
    "  for n in range(int(n_paths)):\n",
    "    for t in range(1,Z.shape[1]):\n",
    "      S[n, t] = S[n,t-1] * np.exp((r-0.5 * sigma ** 2) * dt + np.sqrt(dt) * sigma * X_tilde[n,t])\n",
    "  return S\n",
    "\n",
    "def LikelihoodRatio( Z, mu=0):\n",
    "  X_tilde = Z + mu\n",
    "  LR = np.exp(-mu * X_tilde + 0.5 * (mu ** 2))\n",
    "  return LR\n",
    "\n",
    "def AsianCallIS(S,K,n_years, r, LR):\n",
    "  paths = S.shape[0]\n",
    "  C_n_vector = np.zeros(len(K))\n",
    "  confint_call = np.zeros(len(K))\n",
    "  for i, k in enumerate(K):\n",
    "    H = np.exp(-r*n_years) * np.maximum(S[:,-1] - k , 0) \n",
    "    C = H * LR[:,-1]\n",
    "    C_n_vector[i] = np.mean(C)\n",
    "    confint_call[i] = np.quantile(Z, 0.975)*np.std(C)/(paths ** (1/2))\n",
    "    #print(f\"Call option price estimate for strike {k} is: {C_n:.3f} +/- {confint_call[i]}\")\n",
    "  return C_n_vector#, confint_call\n",
    "\n",
    "def AsianAritmetricPayoff(S,K,n_years,r,LR):\n",
    "  simulations = S.shape[0] # Number of rows\n",
    "  row_length = S.shape[1]  # Row length\n",
    "  payoff = np.zeros((simulations,len(K)))\n",
    "  for index, k in enumerate(K):\n",
    "    S_sum = np.sum(S, axis = 1) # Rowise sum of the prices\n",
    "    payoff[:,index] =  np.exp(-r*n_years) * np.maximum((S_sum/row_length) - k, 0) # Payoff calculation\n",
    "  return payoff"
   ]
  },
  {
   "cell_type": "code",
   "execution_count": 112,
   "metadata": {},
   "outputs": [
    {
     "name": "stdout",
     "output_type": "stream",
     "text": [
      "36.72036788040577\n"
     ]
    }
   ],
   "source": [
    "S_0 = 100; r = 0.03; T = 1; sigma = 0.2; K = np.array([70, 100, 130]); m = np.array([12,52])\n",
    "\n",
    "n_paths = 10000\n",
    "\n",
    "mu = 5/m[0]\n",
    "Z = np.random.standard_normal((n_paths, T * m[0]+1))\n",
    "S = StockTrajectory(n_paths, T, m[0], S_0, Z, r, mu)\n",
    "LR = LikelihoodRatio(Z,mu)\n",
    "\n",
    "payoff = AsianCallIS(S,K,n_years,r,LR)\n",
    "prices = np.mean(payoff, axis = 0 )\n",
    "print(prices)"
   ]
  },
  {
   "cell_type": "markdown",
   "metadata": {},
   "source": [
    "c) Produce a comparison plot including the methods from assignment 1 for K = 130 and m = 5"
   ]
  },
  {
   "cell_type": "markdown",
   "metadata": {},
   "source": [
    "## 3. Basket call and put option on two underlying stocks  "
   ]
  },
  {
   "cell_type": "markdown",
   "metadata": {},
   "source": [
    "Let $𝑆_𝑖(0) = 100, 𝜎_𝑖$ = 20 %, r = 0.03, T = 1 and  𝐾 ∈ {70,100,130}. Calculate prices of the basket options using quasi\n",
    "MC for: "
   ]
  },
  {
   "cell_type": "markdown",
   "metadata": {},
   "source": [
    "a)  𝜌 = 0 \n",
    "\n",
    "b)  𝜌 = 0.5"
   ]
  },
  {
   "cell_type": "markdown",
   "metadata": {},
   "source": [
    "Method: \n",
    "\n",
    "- Generation of random numbers:\n",
    "    - First, a large matrix of Sobol sequences were generated  \n",
    "    - Second, a subset of the Sobol matrix was selected to match the number of \"simulations\" \n",
    "    - Third, the value of the normal cumulative density function was evaluated for each of the Sobol values and stored in a matrix Z\n",
    "\n",
    "- Evaluation of the option prices\n",
    "    - For each correlation $ \\rho = \\{ 0, 0.5\\}$ and strike $K = \\{70, 100, 130 \\}$ the following steps were performed.\n",
    "\n",
    "        - The cholesky matrix A was calculated.\n",
    "\n",
    "        - Correlated random numbers X were calculated by multiplying A with the matrix Z.\n",
    "\n",
    "        - The random numbers in X were used to simulate stock prices for two correlated stocks.\n",
    "\n",
    "        - For the two stocks and each payoff, the call and put payoffs were calculated as described in the task description.\n",
    "\n",
    "        - The mean values of the payoffs for the call and put was calculated.\n"
   ]
  },
  {
   "cell_type": "code",
   "execution_count": 85,
   "metadata": {},
   "outputs": [],
   "source": [
    "\n",
    "def CallPayoff(S,K):\n",
    "  S1 = S[:,0,:]\n",
    "  S2 = S[:,1,:]\n",
    "  res = np.zeros((S1.shape[0],len(K)))\n",
    "  for index in range(S1.shape[0]):\n",
    "    for k in range(len(K)):\n",
    "      res[index,k] = np.maximum((S1[index,-1] + S2[index,-1])/2 - K[k] ,0 )\n",
    "  return res\n",
    "\n",
    "def PutPayoff(S,K):\n",
    "  S1 = S[:,0,:]\n",
    "  S2 = S[:,1,:]\n",
    "  res = np.zeros((S1.shape[0],len(K)))\n",
    "  for index in range(S1.shape[0]):\n",
    "    for k in range(len(K)):\n",
    "      res[index,k] = np.maximum(K[k] - (S1[index,-1] + S2[index,-1])/2 ,0 )\n",
    "  return res\n",
    "\n",
    "def Cholesky_matrix(stocks, sigma, rho):\n",
    "  # Function cholesky matrix (stocks, sigma) Return A\n",
    "  Sigma_matrix = np.zeros([stocks,stocks])\n",
    "  for i in range(Sigma_matrix.shape[0]):\n",
    "    for j in range(Sigma_matrix.shape[1]):\n",
    "      if i == j:\n",
    "        Sigma_matrix[i,j] = sigma ** 2\n",
    "      else:\n",
    "        Sigma_matrix[i,j] = rho * sigma ** 2\n",
    "\n",
    "  A = np.linalg.cholesky(Sigma_matrix)\n",
    "  return A\n",
    "\n",
    "def Stockprices(Z,X,r,sigma,dt,stocks):\n",
    "  # Function Stockprices(Z,X,r,sigma,dt) Should return S\n",
    "  S = S_0 * np.ones((Z.shape[0], Z.shape[1], Z.shape[2]+ 1 ))\n",
    "  for i in range(simulations):\n",
    "    for j in range(stocks):\n",
    "      for t in range(1, T+1):\n",
    "            S[i, j, t] = S[i, j, t-1] * np.exp((r - 0.5 * sigma ** 2) * dt + np.sqrt(dt)  * X[i, j, t-1])\n",
    "  return S\n"
   ]
  },
  {
   "cell_type": "code",
   "execution_count": 90,
   "metadata": {},
   "outputs": [
    {
     "name": "stdout",
     "output_type": "stream",
     "text": [
      "---------------------------------------------------------------------\n",
      "For correlation = 0.0                     K=70,    K=100,  K=130\n",
      "   Call prices for the basket option at   32.077,  7.178,  0.340\n",
      "   Put  prices for the basket option at   0.011,   4.225,  26.500\n",
      "---------------------------------------------------------------------\n",
      "For correlation = 0.5                     K=70,    K=100,  K=130\n",
      "   Call prices for the basket option at   32.129,  8.380,  0.809\n",
      "   Put  prices for the basket option at   0.063,   5.428,  26.970\n",
      "---------------------------------------------------------------------\n"
     ]
    }
   ],
   "source": [
    "S_0 = 100; sigma = 0.2; K = np.array([70,100,130]); r = 0.03; T = 1\n",
    "rho = np.array([0,0.5])\n",
    "simulations = 20000\n",
    "dt = 1\n",
    "stocks = 2\n",
    "\n",
    "# Generating Sobol sequence\n",
    "sampler = qmc.Sobol(d = stocks, scramble = False) # sets number of columns in u\n",
    "u = sampler.random_base2(17) # sets number of rows in u being 2^argument \n",
    "Z = np.zeros((simulations, stocks,  T))\n",
    "u_section = u[1:simulations+1, :]\n",
    "Z[:,:,0] = norm.ppf(u_section)\n",
    "\n",
    "\n",
    "\n",
    "print('---------------------------------------------------------------------')\n",
    "for corr in rho:\n",
    "\n",
    "  # Create a Cholesky matrix to enable dependence\n",
    "  A = Cholesky_matrix(stocks, sigma, corr)\n",
    "\n",
    "  # Generate random number cube where depth is simulations, height is stocks, width is time steps\n",
    "\n",
    "  X =  A @ Z # Enforcing the dependence structure\n",
    "\n",
    "  # Create stock price paths\n",
    "  S = Stockprices(Z,X,r,sigma,dt,stocks)\n",
    "\n",
    "\n",
    "  Call_payoff_discounted = np.exp(-r * T) * CallPayoff(S,K)\n",
    "  Put_payoff_discounted = np.exp(-r * T) * PutPayoff(S,K)\n",
    "\n",
    "  CallPrices = np.mean(Call_payoff_discounted, axis = 0)\n",
    "  PutPrices = np.mean(Put_payoff_discounted, axis = 0)\n",
    "  print(f'For correlation = {corr}                     K=70,    K=100,  K=130')\n",
    "  print(f'   Call prices for the basket option at   {CallPrices[0]:.3f},  {CallPrices[1]:.3f},  {CallPrices[2]:.3f}')\n",
    "  print(f'   Put  prices for the basket option at   {PutPrices[0]:.3f},   {PutPrices[1]:.3f},  {PutPrices[2]:.3f}')\n",
    "  print('---------------------------------------------------------------------')\n",
    "\n"
   ]
  },
  {
   "cell_type": "markdown",
   "metadata": {},
   "source": [
    "## 4. Barrier option  "
   ]
  },
  {
   "cell_type": "markdown",
   "metadata": {},
   "source": [
    "Payoff $= 1{𝜏(𝐵) ≤𝑇} ∗ (𝑆(𝑇) − 𝐾)^+$ 𝑤here 𝜏(𝐵) = inf {$𝑡_𝑖:𝑆(𝑡_𝑖) ≤ 𝐵$}. \n",
    "\n",
    "Let S(0) = 100, r= 0.03, T = 1, K = 100, 𝜎 ∈ {0.2, 0.4},  𝐵 = 80 and 𝑚 ∈ {12, 52}."
   ]
  },
  {
   "cell_type": "markdown",
   "metadata": {},
   "source": [
    "a) Calculate prices assuming the stock follows the Heston model with 𝑃 = 0.1, 𝑏 = σ$^2$, σ$_𝑣$ = 0.1 and for ρ = −0.7 \n",
    "and ρ = 0.7. Use the squared volatilities above, 𝜎 ∈ {0.2,0.4}, as initial values in the variance process."
   ]
  },
  {
   "cell_type": "code",
   "execution_count": 91,
   "metadata": {},
   "outputs": [],
   "source": [
    "def Cholesky_matrix(stocks, sigma, rho):\n",
    "  # Function cholesky matrix (stocks, sigma) Return A\n",
    "  Sigma_matrix = np.zeros([stocks,stocks])\n",
    "  for i in range(Sigma_matrix.shape[0]):\n",
    "    for j in range(Sigma_matrix.shape[1]):\n",
    "      if i == j:\n",
    "        Sigma_matrix[i,j] = sigma ** 2\n",
    "      else:\n",
    "        Sigma_matrix[i,j] = rho * sigma ** 2\n",
    "\n",
    "  A = np.linalg.cholesky(Sigma_matrix)\n",
    "  return A\n",
    "\n",
    "def DownInCall(S, b, K):\n",
    "  # Function that calculates the payoff of the down and in option from stock trajectories\n",
    "  # and a barrier and strike prices\n",
    "  res = np.zeros(S.shape[0])\n",
    "  for row in range(S.shape[0]):\n",
    "    if np.min(S[row,:]) <= b:\n",
    "      res[row] = np.maximum(S[row,-1] - K, 0)\n",
    "  return res\n"
   ]
  },
  {
   "cell_type": "code",
   "execution_count": 98,
   "metadata": {},
   "outputs": [
    {
     "data": {
      "image/png": "[encoded data removed]",
      "text/plain": [
       "<Figure size 640x480 with 1 Axes>"
      ]
     },
     "metadata": {},
     "output_type": "display_data"
    }
   ],
   "source": [
    "S_0 = 100; r = 0.03; T = 1; K = 100; sigma = np.array([0.2,0.4]);B = 80; m = np.array([12,52])\n",
    "P = 0.1; sigma_v = 0.1; rho = np.array([-0.7, 0.7]) ; var_0 = sigma ** 2\n",
    "dims = 2 \n",
    "m_i = 0\n",
    "sig_i = 1\n",
    "rho_i = 1\n",
    "\n",
    "b = sigma[sig_i] ** 2\n",
    "dt = 1/m[m_i]\n",
    "\n",
    "n_paths = 10\n",
    "\n",
    "## Create correlated random numbers\n",
    "Z = np.random.standard_normal(( n_paths, dims, int(m[m_i]) + 1))\n",
    "A = Cholesky_matrix(2,sigma[sig_i],rho[rho_i])\n",
    "X = A @ Z\n",
    "\n",
    "\n",
    "## Create Volatility vector\n",
    "V = sigma[0]**2 * np.ones((n_paths, m[m_i]+1))\n",
    "for i in range(n_paths):\n",
    "    for t in range(1,m[m_i]+1 ):\n",
    "        V[i,t] = V[i,t-1] + P*(b - V[i,t-1]) *dt + sigma_v * np.sqrt(V[i,t-1] *dt)* X[i,1,t]\n",
    "\n",
    "plt.plot(V.T);\n",
    "\n",
    "\n",
    "## Creating \n",
    "S = S_0 * np.ones((Z.shape[0], Z.shape[2] ))\n",
    "for i in range(Z.shape[0]):\n",
    "    for t in range(1, Z.shape[2]):\n",
    "        S[i, t] = S[i,t-1] + r*S[i,t-1]*dt + np.sqrt(V[i,t] * dt) *S[i,t-1]* X[i,0,t] \n",
    "\n",
    "plt.plot(S.T);\n",
    "#plt.axhline(y=B, color='k', linestyle='--', label='Y = 80');\n",
    "\n",
    "## Calculating the \n",
    "DIC = np.exp(-r*T) * DownInCall(S,B,K)\n",
    "DIC_n = np.mean(DIC)\n",
    "\n",
    "\n",
    "# print(f'Price at sigma = {sigma[j]} and {m[k]} timesteps is {DIC_n:.3f}')\n",
    "\n",
    "\n",
    "\n"
   ]
  },
  {
   "cell_type": "markdown",
   "metadata": {},
   "source": [
    "b) Calculate prices using importance sampling, as in example 4.6.4 in the book, now assuming a GBM. "
   ]
  },
  {
   "cell_type": "markdown",
   "metadata": {},
   "source": [
    "Discussion: For a), which correlation results in higher prices and why?"
   ]
  },
  {
   "cell_type": "markdown",
   "metadata": {},
   "source": [
    "## 5. Call option on a zero-coupon bond "
   ]
  },
  {
   "cell_type": "markdown",
   "metadata": {},
   "source": [
    "Payoff function: 𝜙(𝑝($𝑇_1,𝑇_2$)) = (𝑝($𝑇_1,𝑇_2$) − 𝐾)+. Here 𝑝($𝑇_1,𝑇_2$) denotes the price of a zcb at time $𝑇_1$ with face value \n",
    "1 that is paid out at time $𝑇_2$. Let K = 0.8, $𝑇_1$ = 5 and $𝑇_2$ = 10. Assume that the short rate evolves according to Vasiceks \n",
    "model (as defined in Glasserman) with parameters r(0) = 0.0137, 𝑃 = 0.2, 𝑏 = 0.02, 𝜎 = 0.01. "
   ]
  },
  {
   "cell_type": "markdown",
   "metadata": {},
   "source": [
    "a) Plot the zero-coupon interest rate curve (YTM-curve), at t = 0, given by the parameters in Vasicek’s model. Also \n",
    "include the values in a table. Note: You are not asked to plot a path of the short rate."
   ]
  },
  {
   "cell_type": "code",
   "execution_count": 69,
   "metadata": {},
   "outputs": [
    {
     "name": "stdout",
     "output_type": "stream",
     "text": [
      "   Maturity     Yield\n",
      "0         1  0.714923\n",
      "1         2  1.329962\n",
      "2         3  1.870660\n",
      "3         4  2.347126\n",
      "4         5  2.768006\n",
      "5         6  3.140696\n",
      "6         7  3.471538\n",
      "7         8  3.765973\n",
      "8         9  4.028674\n",
      "9        10  4.263664\n"
     ]
    },
    {
     "data": {
      "image/png": "[encoded data removed]",
      "text/plain": [
       "<Figure size 640x480 with 1 Axes>"
      ]
     },
     "metadata": {},
     "output_type": "display_data"
    }
   ],
   "source": [
    "K = 0.8; T_1 = 5; T_2 = 10; r_0 = 0.0137; P = 0.2; b = 0.02; sigma = 0.01\n",
    "a = P\n",
    "t = 0\n",
    "T = np.arange(t+1,11,1)\n",
    "\n",
    "B = 1/a*(1 - np.exp(-a*(T-t)))\n",
    "A = (B-(T-t))*(a**2*b-1/2*sigma**2)/(sigma**2) - (sigma**2*B**2)/(4*a)\n",
    "\n",
    "P = np.exp(A-B*r_0)\n",
    "\n",
    "Z_T = - (np.log(P)/T)\n",
    "\n",
    "plt.plot(T,Z_T)\n",
    "plt.xlabel('Maturity')\n",
    "plt.ylabel('Yield')\n",
    "plt.title('Yield curve from vasicek model')\n",
    "\n",
    "df = pd.DataFrame({\n",
    "    'Maturity': T,\n",
    "    'Yield': Z_T\n",
    "})\n",
    "print(df)\n"
   ]
  },
  {
   "cell_type": "markdown",
   "metadata": {},
   "source": [
    "b) Calculate the price at t = 0 of the option using the exact formula "
   ]
  },
  {
   "cell_type": "code",
   "execution_count": 70,
   "metadata": {},
   "outputs": [],
   "source": [
    "K = 0.8; T_1 = 5; T_2 = 10; r_0 = 0.0137; P = 0.2; b = 0.02; sigma = 0.01\n",
    "a = P\n",
    "t = 0\n",
    "\n",
    "def BondPrice(r_0,t,T,a,b,sigma):\n",
    "    B = 1/a*(1 - np.exp(-a*(T-t)))\n",
    "    A = ((B-(T-t))*(a**2 * b-1/2*sigma**2)) / (sigma**2) - (sigma**2 * B**2)/(4*a)\n",
    "    Pr = np.exp(A-B*r_0)\n",
    "    return Pr\n",
    "\n",
    "\n",
    "sigma_p = 1/a*(1-np.exp(-a*(T_2-T_1))) * np.sqrt((sigma ** 2) /(2*a) * (1-np.exp(-2*a*(T_1-t))))\n",
    "d = 1/sigma_p * np.log(BondPrice(r_0,t,T_2,a,b,sigma) / (BondPrice(r_0,t,T_1,a,b,sigma ) *K) )+ sigma_p/2\n",
    "\n",
    "C = BondPrice(r_0,t,T_2,a,b,sigma)*norm.cdf(d) - BondPrice(r_0,t,T_1,a,b,sigma)*K*norm.cdf(d-sigma_p)\n",
    "\n",
    "\n",
    "\n",
    "\n",
    "\n",
    "\n"
   ]
  },
  {
   "cell_type": "markdown",
   "metadata": {},
   "source": [
    "c) Calculate the price at t = 0 of the option using standard MC with a weekly time-step. Use 20 000 simulations."
   ]
  },
  {
   "cell_type": "code",
   "execution_count": null,
   "metadata": {},
   "outputs": [],
   "source": [
    "Price_T1 = 0.9\n",
    "T_1 = 5\n",
    "m = 52; n_paths = 100\n",
    "\n",
    "\n",
    "Z = np.random.standard_normal((int(n_paths), T_1 * m + 1))\n",
    "\n",
    "\n",
    "\n",
    "\n",
    "\n",
    "\n"
   ]
  },
  {
   "cell_type": "markdown",
   "metadata": {},
   "source": [
    "## 6. Adjustable rate mortgage with interest rate ceiling (ARMWIRC) "
   ]
  },
  {
   "cell_type": "markdown",
   "metadata": {},
   "source": [
    "Using Vasicek’s model for the short rate, with the same parameters as in the previous problem, calculate the fair \n",
    "premium (spread) for a five year ARMWIRC, without amortization, based on the one-month rate and with a ceiling of \n",
    "2.3 % (excluding the spread). Use the short rate as the one-month rate.\n",
    "\n",
    "The fair premium is the spread that makes the market price of the bank’s and the customer’s cash flows equal. \n",
    "\n",
    "Use 100 000 simulated paths of the short rate to determine the premium. "
   ]
  },
  {
   "cell_type": "code",
   "execution_count": null,
   "metadata": {},
   "outputs": [],
   "source": []
  }
 ],
 "metadata": {
  "kernelspec": {
   "display_name": ".venv",
   "language": "python",
   "name": "python3"
  },
  "language_info": {
   "codemirror_mode": {
    "name": "ipython",
    "version": 3
   },
   "file_extension": ".py",
   "mimetype": "text/x-python",
   "name": "python",
   "nbconvert_exporter": "python",
   "pygments_lexer": "ipython3",
   "version": "3.12.3"
  }
 },
 "nbformat": 4,
 "nbformat_minor": 2
}
